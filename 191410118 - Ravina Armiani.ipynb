{
  "nbformat": 4,
  "nbformat_minor": 0,
  "metadata": {
    "colab": {
      "name": "191410118_Ravina_Armiani.ipynb",
      "provenance": [],
      "collapsed_sections": []
    },
    "kernelspec": {
      "name": "python3",
      "display_name": "Python 3"
    },
    "language_info": {
      "name": "python"
    }
  },
  "cells": [
    {
      "cell_type": "markdown",
      "source": [
        "##Topic 3 - Python Structure & Data Type Assignment\n"
      ],
      "metadata": {
        "id": "f6LjKU50-tD8"
      }
    },
    {
      "cell_type": "markdown",
      "source": [
        "# Data Type Declaration"
      ],
      "metadata": {
        "id": "MPuR878HZEbx"
      }
    },
    {
      "cell_type": "markdown",
      "source": [
        "1. > Create an empty variable (Points : 5)"
      ],
      "metadata": {
        "id": "GyS5I54D-3K9"
      }
    },
    {
      "cell_type": "code",
      "source": [
        "#Code goes here\n",
        "mahasiswa=\" \""
      ],
      "metadata": {
        "id": "jehesBY-_aKL"
      },
      "execution_count": null,
      "outputs": []
    },
    {
      "cell_type": "markdown",
      "source": [
        "2. > Create a variable containing your name (Points : 5)"
      ],
      "metadata": {
        "id": "6zCz3qZ8_bu2"
      }
    },
    {
      "cell_type": "code",
      "source": [
        "#Code goes here\n",
        "mahasiswa=\"Ravina Armiani\""
      ],
      "metadata": {
        "id": "1wT8jnI6_f-U"
      },
      "execution_count": 1,
      "outputs": []
    },
    {
      "cell_type": "markdown",
      "source": [
        "3. > Create a list of 5 items you can find in the classroom (Points : 5)"
      ],
      "metadata": {
        "id": "ApatE8m__2Ud"
      }
    },
    {
      "cell_type": "code",
      "source": [
        "#Code goes here\n",
        "barang=(\"buku\",\"pena\",\"pensil\",\"penghapus\",\"tas\")"
      ],
      "metadata": {
        "id": "-Q0Ynqx1_6hF"
      },
      "execution_count": null,
      "outputs": []
    },
    {
      "cell_type": "markdown",
      "source": [
        "4. > Create a dictionary containing 2 keys and value (Points : 5)"
      ],
      "metadata": {
        "id": "6FwMmy_9AS5N"
      }
    },
    {
      "cell_type": "code",
      "source": [
        "#Code goes here\n",
        "mahasiswa={\n",
        "    \"nama\":[\"Ravina\",\"Dinda\"],\n",
        "    \"NIM\":[201900148,201900145]\n",
        "}"
      ],
      "metadata": {
        "id": "xLc2AlhtASOm"
      },
      "execution_count": 8,
      "outputs": []
    },
    {
      "cell_type": "markdown",
      "source": [
        "# Basic Data Operation"
      ],
      "metadata": {
        "id": "6AqPfAS7a1Oi"
      }
    },
    {
      "cell_type": "markdown",
      "source": [
        "You sold 20 pieces of electronics at the price of 12000. The customer gets a total discount of 10%.\n",
        "\n",
        "Below are those variables:\n",
        "\n",
        "1.   price=12000\n",
        "2.   quantity_sold=20\n",
        "3.   discount=10%\n",
        "\n",
        "\n",
        "Using Python code, write the code the find the total money that the customer to pay. (Points : 15)"
      ],
      "metadata": {
        "id": "-ZZF1cXlbqkJ"
      }
    },
    {
      "cell_type": "code",
      "source": [
        "#Code goes here\n",
        "#pelanggan membeli 20 barang elektronik dan mendapatkan diskon 10%\n",
        "price=12000\n",
        "q_s=20\n",
        "dis=0.1\n",
        "h1=price*q_s#h1(hasil 1)menghitung total price dikali quantity_sold\n",
        "h2=h1*dis#h2(hasil 2)menhitung total h1 dikali diskon(0.1)\n",
        "totalbyr=h1-h2\n",
        "totalbyr"
      ],
      "metadata": {
        "id": "90T0A2HvbcCK",
        "colab": {
          "base_uri": "https://localhost:8080/"
        },
        "outputId": "38b5aebc-dfeb-4bf4-9ad8-2e514aa8c496"
      },
      "execution_count": 9,
      "outputs": [
        {
          "output_type": "execute_result",
          "data": {
            "text/plain": [
              "216000.0"
            ]
          },
          "metadata": {},
          "execution_count": 9
        }
      ]
    },
    {
      "cell_type": "markdown",
      "source": [
        "# List Data Operation"
      ],
      "metadata": {
        "id": "G-HHsg4la6mJ"
      }
    },
    {
      "cell_type": "markdown",
      "source": [
        "5. > Follow the instructions in the code blocks\n",
        "\n",
        "\n",
        "\n"
      ],
      "metadata": {
        "id": "NdoSjVZ4Zbqg"
      }
    },
    {
      "cell_type": "code",
      "source": [
        "# Create list of countries in the world (total 7 countries) (Points : 5)\n",
        "\n",
        "#Code goes here\n",
        "countries=[\"Indonesia\",\"Cina\",\"Jepang\",\"Malaysia\",\"Korea\",\"Inggris\",\"Belanda\"]"
      ],
      "metadata": {
        "id": "xsFxlZGLaQ7y"
      },
      "execution_count": 13,
      "outputs": []
    },
    {
      "cell_type": "code",
      "source": [
        "# Get 4 countries from the first index of the list (Points : 5)\n",
        "\n",
        "#Code goes here\n",
        "countries[0:4]"
      ],
      "metadata": {
        "id": "6Se125DabJ6R",
        "colab": {
          "base_uri": "https://localhost:8080/"
        },
        "outputId": "b240b24d-f122-431d-87f8-e6e0f8c3f756"
      },
      "execution_count": 58,
      "outputs": [
        {
          "output_type": "execute_result",
          "data": {
            "text/plain": [
              "['Indonesia', 'Cina', 'Jepang', 'Malaysia']"
            ]
          },
          "metadata": {},
          "execution_count": 58
        }
      ]
    },
    {
      "cell_type": "code",
      "source": [
        "# Append new country to the list (Points : 5)\n",
        "\n",
        "#Code goes here\n",
        "countries.append(\"Brazil\")\n",
        "print(countries)"
      ],
      "metadata": {
        "colab": {
          "base_uri": "https://localhost:8080/"
        },
        "id": "9-alBo_Z06HO",
        "outputId": "97ef10bc-ae00-4005-affd-52625eb56f61"
      },
      "execution_count": 55,
      "outputs": [
        {
          "output_type": "stream",
          "name": "stdout",
          "text": [
            "['Indonesia', 'Cina', 'Jepang', 'Malaysia', 'Korea', 'Inggris', 'Belanda', 'Brazil']\n"
          ]
        }
      ]
    },
    {
      "cell_type": "code",
      "source": [
        "# Drop one country from the list (Points : 5)\n",
        "\n",
        "#Code goes here\n",
        "countries.remove(\"Korea\")\n",
        "print(countries)"
      ],
      "metadata": {
        "id": "DlvXbKlnbKGR",
        "colab": {
          "base_uri": "https://localhost:8080/"
        },
        "outputId": "d09e3e72-bf77-46c0-b659-6e6c6fa9e06e"
      },
      "execution_count": 56,
      "outputs": [
        {
          "output_type": "stream",
          "name": "stdout",
          "text": [
            "['Indonesia', 'Cina', 'Jepang', 'Malaysia', 'Inggris', 'Belanda', 'Brazil']\n"
          ]
        }
      ]
    },
    {
      "cell_type": "code",
      "source": [
        "# Get country in the last index (Points : 5)\n",
        "\n",
        "#Code goes here\n",
        "countries[6]"
      ],
      "metadata": {
        "id": "F1NJ6JCQbKJ7",
        "colab": {
          "base_uri": "https://localhost:8080/",
          "height": 35
        },
        "outputId": "a5f6290d-5299-46f4-f743-a2eae1574959"
      },
      "execution_count": 57,
      "outputs": [
        {
          "output_type": "execute_result",
          "data": {
            "text/plain": [
              "'Brazil'"
            ],
            "application/vnd.google.colaboratory.intrinsic+json": {
              "type": "string"
            }
          },
          "metadata": {},
          "execution_count": 57
        }
      ]
    },
    {
      "cell_type": "markdown",
      "source": [
        "# Dictionary Data Operation"
      ],
      "metadata": {
        "id": "Kfkq-SmIdJR6"
      }
    },
    {
      "cell_type": "markdown",
      "source": [
        "6. >  Follow the instructions below\n",
        "\n",
        "\n",
        "\n"
      ],
      "metadata": {
        "id": "WyJ8CJzdeMiS"
      }
    },
    {
      "cell_type": "code",
      "source": [
        "# Given the dictionary below\n",
        "\n",
        "customer={\n",
        "    \"name\":['Dio','Eka','Wayu','Riki'],\n",
        "    \"age\":[20,19,24,39],\n",
        "    \"gender\":[1,0,0,1],\n",
        "    \"membership\":['Platinum','Gold','Silver','Silver']\n",
        "}"
      ],
      "metadata": {
        "id": "fVHYIKLwdMfq"
      },
      "execution_count": null,
      "outputs": []
    },
    {
      "cell_type": "code",
      "source": [
        "# Print all keys in customer (Points : 5)\n",
        "\n",
        "#Code goes here\n",
        "customer.keys()"
      ],
      "metadata": {
        "id": "LpRVtz4_eJK5",
        "colab": {
          "base_uri": "https://localhost:8080/"
        },
        "outputId": "9f680ddd-0529-4f52-8cde-c674f1397f58"
      },
      "execution_count": 70,
      "outputs": [
        {
          "output_type": "execute_result",
          "data": {
            "text/plain": [
              "dict_keys(['name', 'age', 'gender', 'membership'])"
            ]
          },
          "metadata": {},
          "execution_count": 70
        }
      ]
    },
    {
      "cell_type": "code",
      "source": [
        "# Print all customer names (Points : 5)\n",
        "\n",
        "#Code goes here\n",
        "customer.get(\"name\")"
      ],
      "metadata": {
        "id": "QiEMM94FeYrz",
        "colab": {
          "base_uri": "https://localhost:8080/"
        },
        "outputId": "52c4d70e-b82f-4e8c-e27d-c58a519c428e"
      },
      "execution_count": 71,
      "outputs": [
        {
          "output_type": "execute_result",
          "data": {
            "text/plain": [
              "['Dio', 'Eka', 'Wayu', 'Riki']"
            ]
          },
          "metadata": {},
          "execution_count": 71
        }
      ]
    },
    {
      "cell_type": "code",
      "source": [
        "# Print the first customer name (Points : 5)\n",
        "\n",
        "#Code goes here\n",
        "customer[\"name\"][0]"
      ],
      "metadata": {
        "id": "P2SeErUGgQ-D",
        "colab": {
          "base_uri": "https://localhost:8080/",
          "height": 35
        },
        "outputId": "9fee6e66-537f-4231-c349-e5b8c989b733"
      },
      "execution_count": 74,
      "outputs": [
        {
          "output_type": "execute_result",
          "data": {
            "text/plain": [
              "'Dio'"
            ],
            "application/vnd.google.colaboratory.intrinsic+json": {
              "type": "string"
            }
          },
          "metadata": {},
          "execution_count": 74
        }
      ]
    },
    {
      "cell_type": "code",
      "source": [
        "# Drop \"age\" key from the dictionary (Points : 5)\n",
        "\n",
        "#Code goes here\n",
        "del customer[\"age\"]\n",
        "print (customer)"
      ],
      "metadata": {
        "id": "c3PlmHxueiPy",
        "colab": {
          "base_uri": "https://localhost:8080/"
        },
        "outputId": "a96144e7-6bd5-4773-aa8e-603db8eb0ff9"
      },
      "execution_count": 87,
      "outputs": [
        {
          "output_type": "stream",
          "name": "stdout",
          "text": [
            "{'name': ['Dio', 'Eka', 'Wayu', 'Riki'], 'gender': [1, 0, 0, 1], 'membership': ['Platinum', 'Gold', 'Silver', 'Silver']}\n"
          ]
        }
      ]
    },
    {
      "cell_type": "code",
      "source": [
        "# Replace customer gender list value (Points : 20)\n",
        "# gender 1 => Male\n",
        "# gender 0 => Female \n",
        "\n",
        "\n",
        "#Code goes here\n",
        "for i in range(len(customer[\"gender\"])):\n",
        " \n",
        "  #replace 1 with Male\n",
        "  if customer[\"gender\"][i] == 1:\n",
        "    customer[\"gender\"][i] = \"Male\"\n",
        "\n",
        "  #replace 2 with Famale\n",
        "  if customer[\"gender\"][i] == 0:\n",
        "    customer[\"gender\"][i] = \"Famale\"\n",
        "customer[\"gender\"]"
      ],
      "metadata": {
        "id": "FgXDh9mIea9x",
        "colab": {
          "base_uri": "https://localhost:8080/"
        },
        "outputId": "5af82183-d1bc-463e-a125-ce3ca160eb1d"
      },
      "execution_count": 89,
      "outputs": [
        {
          "output_type": "execute_result",
          "data": {
            "text/plain": [
              "['Male', 'Famale', 'Famale', 'Male']"
            ]
          },
          "metadata": {},
          "execution_count": 89
        }
      ]
    }
  ]
}